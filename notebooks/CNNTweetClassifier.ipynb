{
 "cells": [
  {
   "cell_type": "code",
   "execution_count": 1,
   "metadata": {},
   "outputs": [
    {
     "name": "stderr",
     "output_type": "stream",
     "text": [
      "[nltk_data] Downloading package stopwords to /Users/joao/nltk_data...\n",
      "[nltk_data]   Package stopwords is already up-to-date!\n",
      "[nltk_data] Downloading package rslp to /Users/joao/nltk_data...\n",
      "[nltk_data]   Package rslp is already up-to-date!\n"
     ]
    }
   ],
   "source": [
    "import os\n",
    "import pandas as pd\n",
    "import numpy as np\n",
    "import random\n",
    "import re\n",
    "import nltk\n",
    "from nltk.tokenize import word_tokenize\n",
    "nltk.download('stopwords')\n",
    "nltk.download('rslp')\n",
    "from nltk.tokenize import wordpunct_tokenize\n",
    "# from nltk.tokenize import sent_tokenize (Tokenization)\n",
    "from nltk.probability import FreqDist\n",
    "from nltk.metrics import ConfusionMatrix\n",
    "from wordcloud import WordCloud\n",
    "import matplotlib.pyplot as plt\n",
    "from sklearn.feature_extraction.text import CountVectorizer\n",
    "from sklearn.feature_extraction.text import TfidfTransformer\n",
    "from sklearn.naive_bayes import MultinomialNB\n",
    "from sklearn.linear_model import SGDClassifier\n",
    "from sklearn.linear_model import LogisticRegression\n",
    "from sklearn.svm import SVC\n",
    "from sklearn.ensemble import RandomForestClassifier\n",
    "from sklearn.pipeline import Pipeline\n",
    "from sklearn import metrics\n",
    "from sklearn.model_selection import GridSearchCV\n",
    "from sklearn.model_selection import train_test_split\n",
    "from sklearn.model_selection import cross_validate\n",
    "from sklearn.model_selection import train_test_split"
   ]
  },
  {
   "cell_type": "code",
   "execution_count": 2,
   "metadata": {},
   "outputs": [
    {
     "name": "stderr",
     "output_type": "stream",
     "text": [
      "[nltk_data] Downloading package stopwords to /Users/joao/nltk_data...\n",
      "[nltk_data]   Package stopwords is already up-to-date!\n",
      "[nltk_data] Downloading package rslp to /Users/joao/nltk_data...\n",
      "[nltk_data]   Package rslp is already up-to-date!\n"
     ]
    }
   ],
   "source": [
    "%run NLPha"
   ]
  },
  {
   "cell_type": "code",
   "execution_count": 2,
   "metadata": {},
   "outputs": [],
   "source": [
    "#from NLPha import _remove_url, _remove_regex, _replace_emoticons, _tokenize_text \n",
    "#from NLPha import _apply_standardization, _remove_stopwords, _apply_stemmer, _untokenize_text, _get_text_cloud\n",
    "#from NLPha import _get_freq_dist_list, _get_accuracy\n"
   ]
  },
  {
   "cell_type": "markdown",
   "metadata": {},
   "source": [
    "# get data"
   ]
  },
  {
   "cell_type": "code",
   "execution_count": 3,
   "metadata": {},
   "outputs": [],
   "source": [
    "dftreino =  pd.read_csv('data.csv', delimiter=';')\n",
    "xtreino = list(dftreino.text)"
   ]
  },
  {
   "cell_type": "markdown",
   "metadata": {},
   "source": [
    "# preprocess"
   ]
  },
  {
   "cell_type": "code",
   "execution_count": 4,
   "metadata": {},
   "outputs": [],
   "source": [
    "xtreino = _remove_url(xtreino)\n",
    "\n",
    "regex_pattern = '@[\\w]*'\n",
    "\n",
    "xtreino = _remove_regex(xtreino, regex_pattern)\n",
    "\n",
    "emoticon_list = {':))': 'positive_emoticon', ':)': 'positive_emoticon', ':D': 'positive_emoticon', ':(': 'negative_emoticon', ':((': 'negative_emoticon', '8)': 'neutral_emoticon'}\n",
    "\n",
    "xtreino = _replace_emoticons(xtreino, emoticon_list)\n",
    "\n",
    "xtreino_tokens = _tokenize_text(xtreino)\n",
    "\n",
    "xtreino_tokens = _apply_standardization(xtreino_tokens, std_list)\n",
    "\n",
    "xtreino_tokens = _remove_stopwords(xtreino_tokens, stopword_list)\n",
    "\n",
    "X = _untokenize_text(xtreino_tokens)"
   ]
  },
  {
   "cell_type": "code",
   "execution_count": 5,
   "metadata": {},
   "outputs": [],
   "source": [
    "tweets = dftreino.text\n",
    "classes = dftreino.isFavorable"
   ]
  },
  {
   "cell_type": "markdown",
   "metadata": {},
   "source": [
    "# organize for input "
   ]
  },
  {
   "cell_type": "code",
   "execution_count": 6,
   "metadata": {},
   "outputs": [],
   "source": [
    "vocabulary = []\n",
    "index = dict()\n",
    "encoded_tweets = []\n",
    "\n",
    "for tweet in xtreino_tokens:\n",
    "    encoded_tweet = []\n",
    "\n",
    "    for word in tweet:\n",
    "        if word not in index:\n",
    "            vocabulary.append(word)\n",
    "            index[word] = len(vocabulary) - 1\n",
    "\n",
    "    # encoding:\n",
    "    for word in tweet:\n",
    "        encoded_tweet.append(index[word])\n",
    "    encoded_tweets.append(encoded_tweet)\n",
    "    #print(encoded_review)"
   ]
  },
  {
   "cell_type": "code",
   "execution_count": 7,
   "metadata": {},
   "outputs": [],
   "source": [
    "X = encoded_tweets\n",
    "y = classes"
   ]
  },
  {
   "cell_type": "code",
   "execution_count": 8,
   "metadata": {},
   "outputs": [],
   "source": [
    "trainX, testX, trainY, testY = train_test_split(X, y, test_size=0.33, random_state=42)"
   ]
  },
  {
   "cell_type": "code",
   "execution_count": 26,
   "metadata": {},
   "outputs": [
    {
     "name": "stdout",
     "output_type": "stream",
     "text": [
      "testX.shape: (4026,)\n",
      "testY.shape: (4026,)\n",
      "testX[0]: [646, 38, 39, 5703, 147, 497, 388, 1937, 5327, 6484, 170, 280, 498, 435, 248, 1399, 182, 776, 55, 21, 19431, 21, 20027]\n",
      "testY[0]: 1\n"
     ]
    },
    {
     "name": "stderr",
     "output_type": "stream",
     "text": [
      "<ipython-input-26-23f7b34a0095>:3: VisibleDeprecationWarning: Creating an ndarray from ragged nested sequences (which is a list-or-tuple of lists-or-tuples-or ndarrays with different lengths or shapes) is deprecated. If you meant to do this, you must specify 'dtype=object' when creating the ndarray\n",
      "  print(\"testX.shape:\",np.array(X_test).shape) #2500个list.每个list代表一句话\n"
     ]
    }
   ],
   "source": [
    "import numpy as np\n",
    "\n",
    "print(\"testX.shape:\",np.array(X_test).shape) #2500个list.每个list代表一句话\n",
    "print(\"testY.shape:\",np.array(y_test).shape) #2500个label\n",
    "print(\"testX[0]:\",X_test[0]) #[17, 25, 10, 406, 26, 14, 56, 61, 62, 323, 4]\n",
    "print(\"testY[0]:\",y_test[0]) #0"
   ]
  },
  {
   "cell_type": "markdown",
   "metadata": {},
   "source": [
    "# Sentiment analysis with CNN"
   ]
  },
  {
   "cell_type": "code",
   "execution_count": 9,
   "metadata": {},
   "outputs": [
    {
     "name": "stdout",
     "output_type": "stream",
     "text": [
      "WARNING:tensorflow:From /opt/anaconda3/lib/python3.8/site-packages/tensorflow/python/compat/v2_compat.py:96: disable_resource_variables (from tensorflow.python.ops.variable_scope) is deprecated and will be removed in a future version.\n",
      "Instructions for updating:\n",
      "non-resource variables are not supported in the long term\n"
     ]
    }
   ],
   "source": [
    "import tensorflow as tf\n",
    "import tflearn\n",
    "from tflearn.layers.core import input_data, dropout, fully_connected\n",
    "from tflearn.layers.conv import conv_1d, global_max_pool\n",
    "from tflearn.layers.merge_ops import merge\n",
    "from tflearn.layers.estimator import regression\n",
    "from tflearn.data_utils import to_categorical, pad_sequences\n",
    "from tflearn.datasets import imdb\n",
    "import numpy as np"
   ]
  },
  {
   "cell_type": "code",
   "execution_count": null,
   "metadata": {},
   "outputs": [],
   "source": [
    "\n",
    "\n",
    "# 2.Data preprocessing\n",
    "# Sequence padding\n",
    "trainX = pad_sequences(trainX, maxlen=100, value=0.) #padding to max length\n",
    "testX = pad_sequences(testX, maxlen=100, value=0.)   #padding to max length\n",
    "# Converting labels to binary vectors\n",
    "trainY = to_categorical(trainY, nb_classes=2) #y as one hot\n",
    "testY = to_categorical(testY, nb_classes=2)   #y as one hot\n",
    "\n",
    "# 3.Building convolutional network\n",
    "#(shape=None, placeholder=None, dtype=tf.float32,data_preprocessing=None, data_augmentation=None,name=\"InputData\")\n",
    "network = input_data(shape=[None, 100], name='input') #[None, 100] `input_data` is used as a data entry (placeholder) of a network. This placeholder will be feeded with data when training\n",
    "network = tflearn.embedding(network, input_dim=10000, output_dim=128) #[None, 100,128].embedding layer for a sequence of ids. network: Incoming 2-D Tensor. input_dim: vocabulary size, oput_dim:embedding size\n",
    "         #conv_1d(incoming,nb_filter,filter_size)\n",
    "branch1 = conv_1d(network, 128, 3, padding='valid', activation='relu', regularizer=\"L2\") # [batch_size, new steps1, nb_filters]. padding:\"VALID\",only ever drops the right-most columns\n",
    "branch2 = conv_1d(network, 128, 4, padding='valid', activation='relu', regularizer=\"L2\") # [batch_size, new steps2, nb_filters]\n",
    "branch3 = conv_1d(network, 128, 5, padding='valid', activation='relu', regularizer=\"L2\") # [batch_size, new steps3, nb_filters]\n",
    "network = merge([branch1, branch2, branch3], mode='concat', axis=1) # merge a list of `Tensor` into a single one.===>[batch_size, new steps1+new step2+new step3, nb_filters]\n",
    "network = tf.expand_dims(network, 2) #[batch_size, new steps1+new step2+new step3,1, nb_filters] Inserts a dimension of 1 into a tensor's shape\n",
    "network = global_max_pool(network) #[batch_size, pooled dim]\n",
    "network = dropout(network, 0.5) #[batch_size, pooled dim]\n",
    "network = fully_connected(network, 2, activation='softmax') #matmul([batch_size, pooled_dim],[pooled_dim,2])---->[batch_size,2]\n",
    "network = regression(network, optimizer='adam', learning_rate=0.001,\n",
    "                     loss='categorical_crossentropy', name='target')\n",
    "# Training\n",
    "model = tflearn.DNN(network, tensorboard_verbose=0)\n",
    "model.fit(trainX, trainY, n_epoch = 5, shuffle=True, validation_set=(testX, testY), show_metric=True, batch_size=32)\n",
    "print(\"ended...\")"
   ]
  }
 ],
 "metadata": {
  "kernelspec": {
   "display_name": "Python 3",
   "language": "python",
   "name": "python3"
  },
  "language_info": {
   "codemirror_mode": {
    "name": "ipython",
    "version": 3
   },
   "file_extension": ".py",
   "mimetype": "text/x-python",
   "name": "python",
   "nbconvert_exporter": "python",
   "pygments_lexer": "ipython3",
   "version": "3.8.5"
  }
 },
 "nbformat": 4,
 "nbformat_minor": 4
}
