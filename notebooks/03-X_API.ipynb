{
 "cells": [
  {
   "cell_type": "code",
   "execution_count": 7,
   "metadata": {},
   "outputs": [],
   "source": [
    "from src.acquire_politician_tweets import get_politician_tweets, get_political_reform_tweets\n",
    "import pandas as pd\n"
   ]
  },
  {
   "cell_type": "code",
   "execution_count": 9,
   "metadata": {},
   "outputs": [
    {
     "name": "stdout",
     "output_type": "stream",
     "text": [
      "Getting political reform tweets...\n"
     ]
    }
   ],
   "source": [
    "# Example 1: Get political reform tweets from specific politicians\n",
    "politicians = [\"Romario\", \"jdoriajr\", \"ArthurLira_\"]\n",
    "\n",
    "print(\"Getting political reform tweets...\")\n",
    "\n",
    "for politician in politicians:\n",
    "    df = get_political_reform_tweets(politician)\n",
    "    if df is not None and not df.empty:\n",
    "        print(f\"\\nFound {len(df)} tweets from @{politician}\")\n",
    "        display(df.head())\n",
    "\n",
    "# Example 2: Get tweets about a custom topic\n",
    "topics = [\"saúde pública\", \"SUS\", \"vacinação\"]\n",
    "df_health = get_politician_tweets(\n",
    "    \n",
    "    twitter_handle=\"jdoriajr\",\n",
    "    topics=topics,\n",
    "    max_results=50\n",
    ")\n",
    "\n",
    "if df_health is not None and not df_health.empty:\n",
    "    print(\"\\nTweets about healthcare from @jdoriajr:\")\n",
    "    display(df_health.head())\n",
    "\n",
    "# Example 3: Get tweets about education without saving to CSV\n",
    "education_topics = [\"educação\", \"escola\", \"universidade\", \"FUNDEB\"]\n",
    "df_education = get_politician_tweets(\n",
    "    twitter_handle=\"Romario\",\n",
    "    topics=education_topics,\n",
    "    save_to_csv=False\n",
    ")\n",
    "\n",
    "if df_education is not None and not df_education.empty:\n",
    "    print(\"\\nTweets about education from @Romario:\")\n",
    "    display(df_education.head())\n",
    "\n",
    "# Example 4: Analyze engagement metrics\n",
    "if df is not None and not df.empty:\n",
    "    print(\"\\nEngagement Analysis:\")\n",
    "    engagement_stats = df.agg({\n",
    "        'retweets': ['mean', 'max'],\n",
    "        'likes': ['mean', 'max'],\n",
    "        'replies': ['mean', 'max']\n",
    "    }).round(2)\n",
    "    display(engagement_stats)"
   ]
  },
  {
   "cell_type": "code",
   "execution_count": 11,
   "metadata": {},
   "outputs": [
    {
     "data": {
      "text/html": [
       "<div>\n",
       "<style scoped>\n",
       "    .dataframe tbody tr th:only-of-type {\n",
       "        vertical-align: middle;\n",
       "    }\n",
       "\n",
       "    .dataframe tbody tr th {\n",
       "        vertical-align: top;\n",
       "    }\n",
       "\n",
       "    .dataframe thead th {\n",
       "        text-align: right;\n",
       "    }\n",
       "</style>\n",
       "<table border=\"1\" class=\"dataframe\">\n",
       "  <thead>\n",
       "    <tr style=\"text-align: right;\">\n",
       "      <th></th>\n",
       "    </tr>\n",
       "  </thead>\n",
       "  <tbody>\n",
       "  </tbody>\n",
       "</table>\n",
       "</div>"
      ],
      "text/plain": [
       "Empty DataFrame\n",
       "Columns: []\n",
       "Index: []"
      ]
     },
     "execution_count": 11,
     "metadata": {},
     "output_type": "execute_result"
    }
   ],
   "source": [
    "df"
   ]
  },
  {
   "cell_type": "code",
   "execution_count": null,
   "metadata": {},
   "outputs": [],
   "source": []
  }
 ],
 "metadata": {
  "kernelspec": {
   "display_name": ".env",
   "language": "python",
   "name": "python3"
  },
  "language_info": {
   "codemirror_mode": {
    "name": "ipython",
    "version": 3
   },
   "file_extension": ".py",
   "mimetype": "text/x-python",
   "name": "python",
   "nbconvert_exporter": "python",
   "pygments_lexer": "ipython3",
   "version": "3.9.19"
  }
 },
 "nbformat": 4,
 "nbformat_minor": 2
}
