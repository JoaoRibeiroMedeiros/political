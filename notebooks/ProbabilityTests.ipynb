{
 "cells": [
  {
   "cell_type": "code",
   "execution_count": 3,
   "metadata": {},
   "outputs": [
    {
     "name": "stdout",
     "output_type": "stream",
     "text": [
      "The autoreload extension is already loaded. To reload it, use:\n",
      "  %reload_ext autoreload\n"
     ]
    }
   ],
   "source": [
    "%load_ext autoreload\n",
    "%autoreload 2\n",
    "\n",
    "import pandas as pd\n",
    "import numpy as np\n",
    "import seaborn as sns\n",
    "import matplotlib.pyplot as plt\n",
    "import sys \n",
    "\n",
    "sns.set_theme()\n",
    "\n",
    "\n",
    "from src.models import SimulateStatement, Model\n",
    "from src.modelstats import ModelStats\n",
    "from dataclasses import dataclass\n",
    "from src.crop import crop_statements_until_t_by_politician, crop_statements_until_t\n",
    "from datetime import datetime"
   ]
  },
  {
   "cell_type": "code",
   "execution_count": 6,
   "metadata": {},
   "outputs": [],
   "source": [
    "df = pd.read_csv(\"data/DATA_FINAL.csv\")\n",
    "df.time = pd.to_datetime(df.time)\n",
    "df = df.sort_values(by=['time'])"
   ]
  },
  {
   "cell_type": "code",
   "execution_count": 3,
   "metadata": {},
   "outputs": [],
   "source": [
    "tau = crop_statements_until_t_by_politician(df,'2019-07-11 15:30:16', 422)"
   ]
  },
  {
   "cell_type": "code",
   "execution_count": 11,
   "metadata": {},
   "outputs": [],
   "source": [
    "# sys.path.append(\"../data/\")\n",
    "\n",
    "data_path = \"../data/DATA_FINAL.csv\"\n",
    "data_deputados_path = \"../data/DEPUTADOS_FINAL.csv\"\n",
    "\n",
    "experimento = ModelStats(data_path, data_deputados_path)\n",
    "\n",
    "lambd = 0.6\n",
    "delta = 0.3\n",
    "lag = 10\n"
   ]
  },
  {
   "cell_type": "code",
   "execution_count": 12,
   "metadata": {},
   "outputs": [
    {
     "name": "stderr",
     "output_type": "stream",
     "text": [
      "0it [00:00, ?it/s]"
     ]
    },
    {
     "name": "stderr",
     "output_type": "stream",
     "text": [
      "19it [00:00, 92.30it/s] \n"
     ]
    }
   ],
   "source": [
    "experimento  = experimento.get_votes(lambd, delta, lag, datetime(2020,1,1))"
   ]
  },
  {
   "cell_type": "code",
   "execution_count": 2,
   "metadata": {},
   "outputs": [
    {
     "name": "stdout",
     "output_type": "stream",
     "text": [
      "Opinion trajectories for Politician1: [(datetime.datetime(2023, 1, 1, 0, 0), 0.8), (datetime.datetime(2023, 1, 2, 0, 0), 0.7), (datetime.datetime(2023, 1, 3, 0, 0), 0.6)]\n"
     ]
    }
   ],
   "source": [
    "from datetime import datetime\n",
    "from dataclasses import dataclass\n",
    "from typing import List\n",
    "\n",
    "@dataclass\n",
    "class PoliticianOpinion:\n",
    "    politician_name: str\n",
    "    opinion_score: float\n",
    "\n",
    "@dataclass\n",
    "class PoliticiansOpinionInTime:\n",
    "    politician_opinions: List[PoliticianOpinion]\n",
    "    datetime: datetime\n",
    "\n",
    "def get_politician_trajectories(opinions_in_time: List[PoliticiansOpinionInTime], politician_name: str):\n",
    "    \"\"\"\n",
    "    Get all different trajectories of opinions for a single politician.\n",
    "\n",
    "    Parameters:\n",
    "    - opinions_in_time: List of PoliticiansOpinionInTime instances.\n",
    "    - politician_name: The name of the politician.\n",
    "\n",
    "    Returns:\n",
    "    - A list of trajectories for the specified politician.\n",
    "    \"\"\"\n",
    "    politician_trajectories = []\n",
    "\n",
    "    # Iterate through the list of opinions_in_time\n",
    "    for opinion_in_time in opinions_in_time:\n",
    "        datetime_point = opinion_in_time.datetime\n",
    "        # Find the politician's opinion at this datetime_point\n",
    "        politician_opinion = next((opinion.opinion_score for opinion in opinion_in_time.politician_opinions\n",
    "                                   if opinion.politician_name == politician_name), None)\n",
    "\n",
    "        if politician_opinion is not None:\n",
    "            # Append the datetime_point and opinion to the trajectories\n",
    "            politician_trajectories.append((datetime_point, politician_opinion))\n",
    "\n",
    "    return politician_trajectories\n",
    "\n",
    "# Example usage:\n",
    "opinions_data = [\n",
    "    PoliticiansOpinionInTime([PoliticianOpinion(\"Politician1\", 0.8), PoliticianOpinion(\"Politician2\", 0.5)], datetime(2023, 1, 1)),\n",
    "    PoliticiansOpinionInTime([PoliticianOpinion(\"Politician1\", 0.7), PoliticianOpinion(\"Politician2\", 0.6)], datetime(2023, 1, 2)),\n",
    "    PoliticiansOpinionInTime([PoliticianOpinion(\"Politician1\", 0.6), PoliticianOpinion(\"Politician2\", 0.7)], datetime(2023, 1, 3)),\n",
    "]\n",
    "\n",
    "politician_name_to_check = \"Politician1\"\n",
    "trajectories = get_politician_trajectories(opinions_data, politician_name_to_check)\n",
    "\n",
    "print(f\"Opinion trajectories for {politician_name_to_check}: {trajectories}\")\n"
   ]
  },
  {
   "cell_type": "code",
   "execution_count": null,
   "metadata": {},
   "outputs": [],
   "source": [
    "@dataclass\n",
    "class OpinionHistogram:\n",
    "    \"\"\"Class for identifying a single politician opinion\"\"\"\n",
    "    bins: list[int]\n",
    "    opinion: list[int] \n",
    "\n",
    "@dataclass\n",
    "class ScoreHistogram:\n",
    "    \"\"\"Class for identifying a single politician opinion\"\"\"\n",
    "    politician_id: list[int]\n",
    "    opinion: list[int]"
   ]
  }
 ],
 "metadata": {
  "kernelspec": {
   "display_name": "Python 3",
   "language": "python",
   "name": "python3"
  },
  "language_info": {
   "codemirror_mode": {
    "name": "ipython",
    "version": 3
   },
   "file_extension": ".py",
   "mimetype": "text/x-python",
   "name": "python",
   "nbconvert_exporter": "python",
   "pygments_lexer": "ipython3",
   "version": "3.9.19"
  },
  "orig_nbformat": 4
 },
 "nbformat": 4,
 "nbformat_minor": 2
}
